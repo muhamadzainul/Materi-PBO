{
 "cells": [
  {
   "cell_type": "markdown",
   "metadata": {},
   "source": [
    "# CLASS & OBJEK"
   ]
  },
  {
   "cell_type": "markdown",
   "metadata": {},
   "source": [
    "## BJEK"
   ]
  },
  {
   "cell_type": "markdown",
   "metadata": {},
   "source": [
    "Objek adalah sesuatu yang diciptakan dari class, ia memiliki atribut(apa yang dipunya objek ini) dan method(apa yang bisa ia lakukan)."
   ]
  },
  {
   "cell_type": "markdown",
   "metadata": {},
   "source": [
    "## CLASS "
   ]
  },
  {
   "cell_type": "markdown",
   "metadata": {},
   "source": [
    "Sedangan class adalah hanyalah sebagai Wadah Untuk menaruh Objek."
   ]
  },
  {
   "cell_type": "markdown",
   "metadata": {},
   "source": [
    "### Perbedaan Class dan Objek"
   ]
  },
  {
   "cell_type": "markdown",
   "metadata": {},
   "source": [
    "Class Tidak bisa beroperasi tanpa adanya objek, dan objek merupakan intasnsi class pada method-method tertentu. Jadi pada setiap class diharuskan ada Sebuah Objek."
   ]
  },
  {
   "cell_type": "markdown",
   "metadata": {},
   "source": [
    "Contoh Class :"
   ]
  },
  {
   "cell_type": "code",
   "execution_count": 1,
   "metadata": {},
   "outputs": [
    {
     "name": "stdout",
     "output_type": "stream",
     "text": [
      "sisinya =  4\n",
      "keliling = 16\n",
      "Luas Permukaan = 96\n",
      "Volumenya = 64\n"
     ]
    }
   ],
   "source": [
    "class Kubus:               \n",
    "    def __init__(self,s):\n",
    "        self.sisi=s\n",
    "    def tampilkan(self):\n",
    "        print(\"sisinya = \",self.sisi)\n",
    "    def Luas(self):\n",
    "        print(\"keliling =\",self.sisi**2)\n",
    "    def LuasP(self):\n",
    "        print(\"Luas Permukaan =\",6*self.sisi**2)\n",
    "    def Volume(self):\n",
    "        print(\"Volumenya =\", self.sisi**3)\n",
    "k2=Kubus(4)\n",
    "k2.tampilkan()\n",
    "k2.Luas()\n",
    "k2.LuasP()\n",
    "k2.Volume()"
   ]
  },
  {
   "cell_type": "markdown",
   "metadata": {},
   "source": [
    "Contoh Class Pada Mahasiswa :"
   ]
  },
  {
   "cell_type": "code",
   "execution_count": 4,
   "metadata": {},
   "outputs": [
    {
     "name": "stdout",
     "output_type": "stream",
     "text": [
      "Selamat, Zainul Layak mendapatkan BidikMisi, Ipk Anda = 3.5\n"
     ]
    }
   ],
   "source": [
    "class Mahasiswa:\n",
    "    def __init__(self,a,b,c):\n",
    "        self.nim=a\n",
    "        self.nama=b\n",
    "        self.ipk=c\n",
    "    def Ipk(self):\n",
    "        if self.ipk >= 3:\n",
    "            print(\"Selamat,\",self.nama,\"Layak mendapatkan BidikMisi, Ipk Anda =\",self.ipk)\n",
    "        else:\n",
    "            print(\"Maaf, {} Tidak Layak mendapatkan BidikMisi. Ipk anda {}\")\n",
    "m1=Mahasiswa(170411100011,\"Zainul\",3.5)\n",
    "m1.Ipk()"
   ]
  }
