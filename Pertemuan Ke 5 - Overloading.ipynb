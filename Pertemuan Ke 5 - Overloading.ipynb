{
 "cells": [
  {
   "cell_type": "markdown",
   "metadata": {},
   "source": [
    "# Overloading Method & Operator Overloading"
   ]
  },
  {
   "cell_type": "markdown",
   "metadata": {},
   "source": [
    "## Overloading Method"
   ]
  },
  {
   "cell_type": "markdown",
   "metadata": {},
   "source": [
    "Overloading method ialah method yangmengeksekusi berdasarkan jumlah parameter yang diinputkan, Beda jumlah parameter maka berbeda pula method yg ditampilkan"
   ]
  },
  {
   "cell_type": "code",
   "execution_count": 6,
   "metadata": {},
   "outputs": [
    {
     "name": "stdout",
     "output_type": "stream",
     "text": [
      "B = Kosong\n",
      "Ini hanya Menampilkan B =  A\n"
     ]
    }
   ],
   "source": [
    "class obj:\n",
    "    def tampil(self,b=None):\n",
    "        if b is not None:\n",
    "            print('Ini hanya Menampilkan B = ',b)\n",
    "        else:\n",
    "            print('B = Kosong')\n",
    "a=obj()\n",
    "a.tampil()\n",
    "a.tampil('A')"
   ]
  },
  {
   "cell_type": "code",
   "execution_count": 7,
   "metadata": {},
   "outputs": [
    {
     "name": "stdout",
     "output_type": "stream",
     "text": [
      "['banana', 'apple', 'orange']\n",
      "['mango', 'banana', 'apple', 'orange']\n"
     ]
    }
   ],
   "source": [
    "class Order:\n",
    "    def __init__(self, cart, costumer):\n",
    "        self.cart = cart\n",
    "        self.costumer = costumer\n",
    "    def __add__(self,other):\n",
    "        new_cart = self.cart.copy()\n",
    "        new_cart.append(other)\n",
    "        return Order(new_cart, self.costumer)\n",
    "    def __radd__(self,other):\n",
    "        new_cart = self.cart.copy()\n",
    "        new_cart.insert(0, other)\n",
    "        return Order(new_cart, self.costumer)\n",
    "order = Order(['banana','apple'],'Real Python')\n",
    "order = order + 'orange'\n",
    "print(order.cart)\n",
    "#output = [‘banana’,’apple’,’orange’]\n",
    "order = 'mango' + order\n",
    "print(order.cart)\n",
    "#output = [‘mango’,’banana’,’apple’,’orange’]\n"
   ]
  },
  {
   "cell_type": "markdown",
   "metadata": {},
   "source": [
    "## Operator Overloading"
   ]
  },
  {
   "cell_type": "code",
   "execution_count": 25,
   "metadata": {},
   "outputs": [
    {
     "name": "stdout",
     "output_type": "stream",
     "text": [
      "Point This Object is at: (3,6)\n"
     ]
    }
   ],
   "source": [
    "class point:\n",
    "    def __init__(self,x=0,y=0):\n",
    "        self.x=x\n",
    "        self.y=y\n",
    "    def __str__(self):\n",
    "        return 'Point This Object is at: ('+str(self.x)+','+str(self.y)+')'\n",
    "    def __add__(self,other):\n",
    "        x=self.x+other.x\n",
    "        y=self.y+other.y\n",
    "        return point(x,y)\n",
    "p1=point(1,2)\n",
    "p2=point(2,4)\n",
    "print(p1+p2)"
   ]
  },
  {
   "cell_type": "code",
   "execution_count": 34,
   "metadata": {},
   "outputs": [
    {
     "name": "stdout",
     "output_type": "stream",
     "text": [
      ">>> Luas Persegi\n",
      "Jarak X = 6\n",
      "Jarak Y = 7\n",
      "Luas = 42\n"
     ]
    }
   ],
   "source": [
    "#Menghitung Luas\n",
    "class point:\n",
    "    def __init__(self,x=0,y=0):\n",
    "        self.x=x\n",
    "        self.y=y\n",
    "    def __str__(self):\n",
    "        return '>>> Luas Persegi\\n'+'Jarak X = '+str(self.x)+'\\nJarak Y = '+str(self.y)+'\\nLuas = '+str(self.x*self.y)\n",
    "    def __sub__(self,other):\n",
    "        if self.x< other.x:\n",
    "             x=other.x-self.x\n",
    "        elif self.x > other.x:\n",
    "             x=self.x-other.x\n",
    "        if self.y < other.y:\n",
    "            y=other.y-self.y\n",
    "        elif self.y>other.y:\n",
    "            y=self.y-other.y\n",
    "        return point(x,y)\n",
    "p1=point(8,2)\n",
    "p2=point(2,9)\n",
    "print(p1-p2)"
   ]
  },
  {
   "cell_type": "code",
   "execution_count": null,
   "metadata": {},
   "outputs": [],
   "source": []
  }
 ],
 "metadata": {
  "kernelspec": {
   "display_name": "Python 3",
   "language": "python",
   "name": "python3"
  },
  "language_info": {
   "codemirror_mode": {
    "name": "ipython",
    "version": 3
   },
   "file_extension": ".py",
   "mimetype": "text/x-python",
   "name": "python",
   "nbconvert_exporter": "python",
   "pygments_lexer": "ipython3",
   "version": "3.6.5"
  }
 },
 "nbformat": 4,
 "nbformat_minor": 2
}
