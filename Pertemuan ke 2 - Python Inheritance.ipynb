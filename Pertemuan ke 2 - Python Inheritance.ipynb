{
 "cells": [
  {
   "cell_type": "markdown",
   "metadata": {},
   "source": [
    "# Python Inheritance"
   ]
  },
  {
   "cell_type": "markdown",
   "metadata": {},
   "source": [
    "Inheritance adalah pewarisan class kepada class lain, sehingga class yang menerima warisan bisa mengakses properti & Method pada class yang mewariskan. \n",
    "\n",
    "Namun, induk classnya tak bisa mengakses properti anaknya(class yang menerimawarisan)"
   ]
  },
  {
   "cell_type": "code",
   "execution_count": 1,
   "metadata": {},
   "outputs": [
    {
     "name": "stdout",
     "output_type": "stream",
     "text": [
      "Nama : First\n",
      "\n",
      "Nama : \n",
      "Last Name: Diana\n",
      "\n",
      "Nama : Syah\n",
      "Last Name: Diana\n"
     ]
    }
   ],
   "source": [
    "class User:\n",
    "    name=\"\"\n",
    "    def __init__(self,name):\n",
    "        self.name=name\n",
    "    def pn(self):\n",
    "        print(\"Nama :\",self.name)\n",
    "    def tambah(self,tn):\n",
    "        self.name=tn\n",
    "class programer(User):\n",
    "    def __init__(self,ln): #properti Tambahan\n",
    "        self.ln=ln\n",
    "    def pln(self): #Method tambahan\n",
    "        print(\"Last Name:\", self.ln)\n",
    "    def dpython(self):#Method tambahan 2\n",
    "        print(\"Python Programing\")\n",
    "        \n",
    "gg=User(\"First\")\n",
    "gg.pn()\n",
    "print(\"\")\n",
    "diana=programer(\"Diana\")  \n",
    "diana.pn() #Belum terdeklarasi Namenya\n",
    "diana.pln()\n",
    "print(\"\")\n",
    "diana.tambah(\"Syah\") #Inisialisasi\n",
    "diana.pn()#Setelah di deklarasi\n",
    "diana.pln()"
   ]
  },
  {
   "cell_type": "code",
   "execution_count": 3,
   "metadata": {},
   "outputs": [
    {
     "name": "stdout",
     "output_type": "stream",
     "text": [
      "Nama : Andi\n"
     ]
    }
   ],
   "source": [
    "class reader(User):\n",
    "    pass\n",
    "a=reader(\"Andi\")\n",
    "a.pn()"
   ]
  },
  {
   "cell_type": "markdown",
   "metadata": {},
   "source": [
    "pass = sama seperti induk classnya"
   ]
  },
  {
   "cell_type": "markdown",
   "metadata": {},
   "source": [
    "### Tugas"
   ]
  },
  {
   "cell_type": "markdown",
   "metadata": {},
   "source": [
    "Kelas Orang\n",
    "        properti Nama\n",
    "seb Orang:Mahasiswa & Pegawai\n",
    "    properti mhs : Npm\n",
    "    properti pegawai : Nip\n",
    "sub pegawai : Dosen & Karyawan\n",
    "    properti dosen :nidn\n",
    "\n",
    "Tugasnya :\n",
    "print dosen > Kelas Dosen >> Nama, Nip,Nidn\n",
    "print karyawan > kelas Karyawan >> Nama, Nip\n",
    "\n",
    "<Link Panduan>\n",
    "Note* : Flowalgorith\n",
    "        Online Python Tutor"
   ]
  }
 ],
 "metadata": {
  "kernelspec": {
   "display_name": "Python 3",
   "language": "python",
   "name": "python3"
  },
  "language_info": {
   "codemirror_mode": {
    "name": "ipython",
    "version": 3
   },
   "file_extension": ".py",
   "mimetype": "text/x-python",
   "name": "python",
   "nbconvert_exporter": "python",
   "pygments_lexer": "ipython3",
   "version": "3.6.5"
  }
 },
 "nbformat": 4,
 "nbformat_minor": 2
}
