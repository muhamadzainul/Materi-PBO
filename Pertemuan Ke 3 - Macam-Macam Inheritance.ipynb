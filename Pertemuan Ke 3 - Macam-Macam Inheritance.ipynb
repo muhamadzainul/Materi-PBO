{
 "cells": [
  {
   "cell_type": "markdown",
   "metadata": {},
   "source": [
    "# Macam-macam Inheritance"
   ]
  },
  {
   "cell_type": "markdown",
   "metadata": {},
   "source": [
    "Inheritance (Pewarisan Properti dan method dari induk class)\n",
    "memiliki beberapa type, diantaranya :\n",
    "\n",
    "1. Default\n",
    "2. Overriding\n",
    "3. Super\n",
    "4. Multiple"
   ]
  },
  {
   "cell_type": "markdown",
   "metadata": {},
   "source": [
    "### 1. Default"
   ]
  },
  {
   "cell_type": "markdown",
   "metadata": {},
   "source": [
    "Isinya sama dengan class induknya\n",
    "\n",
    "Contoh :"
   ]
  },
  {
   "cell_type": "code",
   "execution_count": null,
   "metadata": {},
   "outputs": [],
   "source": [
    "class hiu(induk):\n",
    "    pass"
   ]
  },
  {
   "cell_type": "markdown",
   "metadata": {},
   "source": [
    "### 2. Overriding "
   ]
  },
  {
   "cell_type": "markdown",
   "metadata": {},
   "source": [
    "Anak kelas yang merubah properti / Method pada kelas induk"
   ]
  },
  {
   "cell_type": "markdown",
   "metadata": {},
   "source": [
    "contoh :"
   ]
  },
  {
   "cell_type": "code",
   "execution_count": null,
   "metadata": {},
   "outputs": [],
   "source": [
    "class induk:\n",
    "    def __init__(self,nama=\"Saya\"):\n",
    "        self.nama=nama\n",
    "    def tugas(self):\n",
    "        print(\"Ini method Induk\")\n",
    "class anak(induk):\n",
    "     def __init__(self,nama=\"kamu\"): # Overide properti\n",
    "        self.nama=nama\n",
    "    def tugas(self): #Overide Method induk\n",
    "        print(\"Ini Override\")"
   ]
  },
  {
   "cell_type": "markdown",
   "metadata": {},
   "source": [
    "Contoh Program 2:"
   ]
  },
  {
   "cell_type": "code",
   "execution_count": 2,
   "metadata": {
    "scrolled": true
   },
   "outputs": [
    {
     "name": "stdout",
     "output_type": "stream",
     "text": [
      "3 sembarang\n",
      "3 sama kaki\n",
      "3 sama sisi\n"
     ]
    }
   ],
   "source": [
    "class segitiga:\n",
    "    def __init__(self,jumlah_sisi='3',bentuk='sembarang'):\n",
    "        self.js = jumlah_sisi\n",
    "        self.bntk = bentuk\n",
    "    def prin(self):\n",
    "        print (self.js,self.bntk)\n",
    "class segitigasamakaki(segitiga):\n",
    "    def __init__(self,jumlah_sisi='3',bentuk='sama kaki'):\n",
    "        self.js = jumlah_sisi\n",
    "        self.bntk = bentuk\n",
    "class segitigasamasisi(segitiga):\n",
    "    def __init__(self,jumlah_sisi='3',bentuk='sama sisi'):\n",
    "        self.js = jumlah_sisi\n",
    "        self.bntk = bentuk\n",
    "\n",
    "p=segitiga()\n",
    "p.prin()\n",
    "p=segitigasamakaki()\n",
    "p.prin()\n",
    "p=segitigasamasisi()\n",
    "p.prin()"
   ]
  },
  {
   "cell_type": "markdown",
   "metadata": {},
   "source": [
    "### 3. Super "
   ]
  },
  {
   "cell_type": "markdown",
   "metadata": {},
   "source": [
    "Digunakan Untuk Inisiasi properti class parrent pada class anak"
   ]
  },
  {
   "cell_type": "code",
   "execution_count": 21,
   "metadata": {},
   "outputs": [
    {
     "name": "stdout",
     "output_type": "stream",
     "text": [
      "Ikan\n",
      "fresh\n"
     ]
    }
   ],
   "source": [
    "class Fish:\n",
    "    def __init__(self,fish=\"Ikan\"):\n",
    "        self.fish=fish\n",
    "    def pnj(self):\n",
    "        print(self.fish)\n",
    "        print(self.water)\n",
    "class trout(Fish):\n",
    "    def __init__(self,water=\"fresh\"):\n",
    "        self.water=water\n",
    "        Fish.__init__(self)\n",
    "        #Atau :\n",
    "        #super().__init__(self)\n",
    "a=trout()\n",
    "a.pnj()"
   ]
  },
  {
   "cell_type": "code",
   "execution_count": 6,
   "metadata": {},
   "outputs": [
    {
     "name": "stdout",
     "output_type": "stream",
     "text": [
      "First Name :brian\n",
      "lastname :dela\n"
     ]
    }
   ],
   "source": [
    "class user:\n",
    "    nama=''\n",
    "\n",
    "    def __init__(self,nama):\n",
    "        self.nama=nama\n",
    "    def pnama(self):\n",
    "        print('First Name :'+self.nama)\n",
    "        return (self.nama)\n",
    "class programer(user):\n",
    "    def __init__(self,lastname='dela'):\n",
    "        self.last = lastname\n",
    "        super().__init__(self)\n",
    "    def plast(self):\n",
    "        print('lastname :'+self.last)\n",
    "    def doprogramer(self):\n",
    "        print('terserah anda')\n",
    "\n",
    "brian = user('brian')\n",
    "brian.pnama()\n",
    "brian = programer()\n",
    "brian.plast()\n"
   ]
  },
  {
   "cell_type": "markdown",
   "metadata": {},
   "source": [
    "### 4. Multiple"
   ]
  },
  {
   "cell_type": "markdown",
   "metadata": {},
   "source": [
    "Anak class yang memiliki 2 atau lebih Parent class"
   ]
  },
  {
   "cell_type": "code",
   "execution_count": 5,
   "metadata": {},
   "outputs": [
    {
     "name": "stdout",
     "output_type": "stream",
     "text": [
      "\n",
      "Nama :a\n",
      "\n",
      "Npm : 11\n",
      "nilai : 8.0\n"
     ]
    }
   ],
   "source": [
    "class person:\n",
    "    def __init__(self):\n",
    "        self.nama = input('Nama :')\n",
    "    def display(self):\n",
    "        print ('\\nNama :'+self.nama)\n",
    "\n",
    "class marks:\n",
    "    def __init__(self):\n",
    "        self.npm = input('Npm :')\n",
    "        self.math = int(input('Math :'))\n",
    "        self.biology=int(input('Biology :'))\n",
    "    def display(self):\n",
    "        print ('\\nNpm :',self.npm)\n",
    "        print ('nilai :',(self.math+self.biology)//2)\n",
    "\n",
    "class student(person,marks):\n",
    "    def __init__(self):\n",
    "        person.__init__(self)\n",
    "        marks.__init__(self)\n",
    "    def result(self):\n",
    "        person.display(self)\n",
    "        marks.display(self)\n",
    "\n",
    "std = student()\n",
    "std.result()"
   ]
  },
  {
   "cell_type": "markdown",
   "metadata": {},
   "source": [
    "## "
   ]
  }
 ],
 "metadata": {
  "kernelspec": {
   "display_name": "Python 3",
   "language": "python",
   "name": "python3"
  },
  "language_info": {
   "codemirror_mode": {
    "name": "ipython",
    "version": 3
   },
   "file_extension": ".py",
   "mimetype": "text/x-python",
   "name": "python",
   "nbconvert_exporter": "python",
   "pygments_lexer": "ipython3",
   "version": "3.6.5"
  }
 },
 "nbformat": 4,
 "nbformat_minor": 2
}
